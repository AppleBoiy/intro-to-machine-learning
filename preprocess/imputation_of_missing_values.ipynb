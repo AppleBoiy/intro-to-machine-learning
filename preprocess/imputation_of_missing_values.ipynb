{
  "nbformat": 4,
  "nbformat_minor": 0,
  "metadata": {
    "colab": {
      "provenance": [],
      "authorship_tag": "ABX9TyNfBaqVXh9n6FA+LRKvKwaz",
      "include_colab_link": true
    },
    "kernelspec": {
      "name": "python3",
      "display_name": "Python 3"
    },
    "language_info": {
      "name": "python"
    }
  },
  "cells": [
    {
      "cell_type": "markdown",
      "metadata": {
        "id": "view-in-github",
        "colab_type": "text"
      },
      "source": [
        "<a href=\"https://colab.research.google.com/github/AppleBoiy/intro-to-machine-learning/blob/main/preprocess/imputation_of_missing_values.ipynb\" target=\"_parent\"><img src=\"https://colab.research.google.com/assets/colab-badge.svg\" alt=\"Open In Colab\"/></a>"
      ]
    },
    {
      "cell_type": "markdown",
      "source": [
        "# What is Imputation of Missing Values?\n",
        "\n",
        "Imputation is the process of replacing missing data in a dataset with estimated values. This ensures that the dataset remains complete and can be used for analysis or modeling without removing rows or columns with missing values, which could lead to a loss of valuable information."
      ],
      "metadata": {
        "id": "slQ5XsJH_1s4"
      }
    },
    {
      "cell_type": "markdown",
      "source": [
        "## Why is Imputation Important?\n",
        "\n",
        "1.\tPreserves Data:\n",
        "  *\tInstead of dropping rows or columns with missing values, imputation allows you to fill in gaps while retaining as much data as possible.\n",
        "2.\tImproves Model Performance:\n",
        "  *\tMachine learning algorithms typically cannot handle missing data. Imputation makes the dataset usable.\n",
        "3.\tAvoids Bias:\n",
        "  *\tRemoving missing data may skew the dataset or introduce bias, especially if the missingness is not random.\n",
        "4.\tMaintains Data Integrity:\n",
        "  *\tPrevents issues like inconsistencies or errors in downstream analysis."
      ],
      "metadata": {
        "id": "roygYOP9_5Rh"
      }
    },
    {
      "cell_type": "markdown",
      "source": [
        "## Types of Missing Data\n",
        "\n",
        "1.\tMCAR (Missing Completely at Random):\n",
        "  *\tThe missingness is unrelated to the data (e.g., a data collection error).\n",
        "2.\tMAR (Missing at Random):\n",
        "  *\tThe missingness depends on observed data but not the missing data itself.\n",
        "3.\tMNAR (Missing Not at Random):\n",
        "  *\tThe missingness depends on the missing data itself (e.g., people not reporting income because it’s high)."
      ],
      "metadata": {
        "id": "CSrF64DtAAA0"
      }
    },
    {
      "cell_type": "markdown",
      "source": [
        "## Methods of Imputation\n",
        "\n",
        "1.\tSimple Imputation:\n",
        "  *\t**Mean Imputation**: Replace missing values with the mean of the column.\n",
        "  *\t**Median Imputation**: Replace with the median (useful for skewed data).\n",
        "  *\tMode Imputation: Replace with the mode (for categorical data).\n",
        "2.\tAdvanced Imputation:\n",
        "  * **K-Nearest Neighbors (KNN)**: Uses values from the nearest neighbors to estimate missing data.\n",
        "  * **Regression Imputation**: Predicts missing values using a regression model based on other features.\n",
        "  * **Iterative Imputation**: Estimates missing values multiple times using models until convergence.\n",
        "  *\t**Deep Learning-Based Imputation**: Uses neural networks to fill missing values.\n",
        "3.\tDomain-Specific Imputation:\n",
        "  *\tFill in missing values using a default value or domain knowledge."
      ],
      "metadata": {
        "id": "9myLdvv1AJPa"
      }
    },
    {
      "cell_type": "markdown",
      "source": [
        "# Step-by-Step Example: Imputation with Python\n",
        "\n",
        "Let’s demonstrate **mean**, **median**, and **mode imputation** using the real-world **Titanic dataset**."
      ],
      "metadata": {
        "id": "bWRSHWAqAW6K"
      }
    },
    {
      "cell_type": "markdown",
      "source": [
        "### Utils"
      ],
      "metadata": {
        "id": "pctTyXYdDu1L"
      }
    },
    {
      "cell_type": "code",
      "source": [
        "import matplotlib.pyplot as plt\n",
        "\n",
        "def plot_histogram_with_counts(df, column_name, bins=10, color='skyblue'):\n",
        "    # Calculate histogram counts and bin edges\n",
        "    counts, bin_edges, patches = plt.hist(df[column_name], bins=bins, color=color, edgecolor='black')\n",
        "\n",
        "    # Display total count on top of each bar\n",
        "    for count, bin_edge in zip(counts, bin_edges):\n",
        "        if count > 0:\n",
        "            plt.text(bin_edge + (bin_edges[1] - bin_edges[0]) / 2, count, str(int(count)), ha='center', va='bottom')\n",
        "\n",
        "    # Add labels and title\n",
        "    plt.xlabel(column_name)\n",
        "    plt.ylabel('Frequency')\n",
        "    plt.title(f'{column_name} Distribution')\n",
        "\n",
        "    # Show the plot\n",
        "    plt.show()"
      ],
      "metadata": {
        "id": "hsTC5vjvDtVX"
      },
      "execution_count": null,
      "outputs": []
    },
    {
      "cell_type": "markdown",
      "source": [
        "\n",
        "## Step 1: Import Libraries"
      ],
      "metadata": {
        "id": "i3rwwQi-As8D"
      }
    },
    {
      "cell_type": "code",
      "execution_count": null,
      "metadata": {
        "id": "vU3uVEbPwQ9Q"
      },
      "outputs": [],
      "source": [
        "import pandas as pd\n",
        "from sklearn.impute import SimpleImputer"
      ]
    },
    {
      "cell_type": "markdown",
      "source": [
        "## Step 2: Load the Titanic Dataset"
      ],
      "metadata": {
        "id": "2SiVO6yUAwy6"
      }
    },
    {
      "cell_type": "code",
      "source": [
        "# Load dataset\n",
        "url = \"https://raw.githubusercontent.com/datasciencedojo/datasets/master/titanic.csv\"\n",
        "df = pd.read_csv(url)"
      ],
      "metadata": {
        "id": "0qrMNtgHAwab"
      },
      "execution_count": null,
      "outputs": []
    },
    {
      "cell_type": "code",
      "source": [
        "# Inspect missing values\n",
        "df.isnull().sum()"
      ],
      "metadata": {
        "colab": {
          "base_uri": "https://localhost:8080/",
          "height": 492
        },
        "id": "r5-9yntCAzRF",
        "outputId": "285d3bbf-0338-4f6e-d27a-0356203fe855"
      },
      "execution_count": null,
      "outputs": [
        {
          "output_type": "execute_result",
          "data": {
            "text/plain": [
              "PassengerId      0\n",
              "Survived         0\n",
              "Pclass           0\n",
              "Name             0\n",
              "Sex              0\n",
              "Age            177\n",
              "SibSp            0\n",
              "Parch            0\n",
              "Ticket           0\n",
              "Fare             0\n",
              "Cabin          687\n",
              "Embarked         2\n",
              "dtype: int64"
            ],
            "text/html": [
              "<div>\n",
              "<style scoped>\n",
              "    .dataframe tbody tr th:only-of-type {\n",
              "        vertical-align: middle;\n",
              "    }\n",
              "\n",
              "    .dataframe tbody tr th {\n",
              "        vertical-align: top;\n",
              "    }\n",
              "\n",
              "    .dataframe thead th {\n",
              "        text-align: right;\n",
              "    }\n",
              "</style>\n",
              "<table border=\"1\" class=\"dataframe\">\n",
              "  <thead>\n",
              "    <tr style=\"text-align: right;\">\n",
              "      <th></th>\n",
              "      <th>0</th>\n",
              "    </tr>\n",
              "  </thead>\n",
              "  <tbody>\n",
              "    <tr>\n",
              "      <th>PassengerId</th>\n",
              "      <td>0</td>\n",
              "    </tr>\n",
              "    <tr>\n",
              "      <th>Survived</th>\n",
              "      <td>0</td>\n",
              "    </tr>\n",
              "    <tr>\n",
              "      <th>Pclass</th>\n",
              "      <td>0</td>\n",
              "    </tr>\n",
              "    <tr>\n",
              "      <th>Name</th>\n",
              "      <td>0</td>\n",
              "    </tr>\n",
              "    <tr>\n",
              "      <th>Sex</th>\n",
              "      <td>0</td>\n",
              "    </tr>\n",
              "    <tr>\n",
              "      <th>Age</th>\n",
              "      <td>177</td>\n",
              "    </tr>\n",
              "    <tr>\n",
              "      <th>SibSp</th>\n",
              "      <td>0</td>\n",
              "    </tr>\n",
              "    <tr>\n",
              "      <th>Parch</th>\n",
              "      <td>0</td>\n",
              "    </tr>\n",
              "    <tr>\n",
              "      <th>Ticket</th>\n",
              "      <td>0</td>\n",
              "    </tr>\n",
              "    <tr>\n",
              "      <th>Fare</th>\n",
              "      <td>0</td>\n",
              "    </tr>\n",
              "    <tr>\n",
              "      <th>Cabin</th>\n",
              "      <td>687</td>\n",
              "    </tr>\n",
              "    <tr>\n",
              "      <th>Embarked</th>\n",
              "      <td>2</td>\n",
              "    </tr>\n",
              "  </tbody>\n",
              "</table>\n",
              "</div><br><label><b>dtype:</b> int64</label>"
            ]
          },
          "metadata": {},
          "execution_count": 83
        }
      ]
    },
    {
      "cell_type": "markdown",
      "source": [
        "## Step 3: Impute Missing Values\n"
      ],
      "metadata": {
        "id": "ZtFYGHl8A7Ua"
      }
    },
    {
      "cell_type": "markdown",
      "source": [
        "1.\t**Impute** Age Using **Mean**:"
      ],
      "metadata": {
        "id": "vv2rFOYpA8sI"
      }
    },
    {
      "cell_type": "code",
      "source": [
        "plot_histogram_with_counts(df, 'Age', bins=10)"
      ],
      "metadata": {
        "colab": {
          "base_uri": "https://localhost:8080/",
          "height": 472
        },
        "id": "9e3VW6QIChW2",
        "outputId": "154ffe41-d186-45d9-ae3b-2c6743d358b5"
      },
      "execution_count": null,
      "outputs": [
        {
          "output_type": "display_data",
          "data": {
            "text/plain": [
              "<Figure size 640x480 with 1 Axes>"
            ],
            "image/png": "[encoded data removed]"
          },
          "metadata": {}
        }
      ]
    },
    {
      "cell_type": "code",
      "source": [
        "mean_imputer = SimpleImputer(strategy='mean')\n",
        "df['Age'] = mean_imputer.fit_transform(df[['Age']])"
      ],
      "metadata": {
        "id": "jwWgZybVA0km"
      },
      "execution_count": null,
      "outputs": []
    },
    {
      "cell_type": "code",
      "source": [
        "plot_histogram_with_counts(df, 'Age', bins=10)"
      ],
      "metadata": {
        "colab": {
          "base_uri": "https://localhost:8080/",
          "height": 472
        },
        "id": "P1f-yKQkCc0Q",
        "outputId": "20c5a1c3-e15d-4ee3-a64f-207f1be51325"
      },
      "execution_count": null,
      "outputs": [
        {
          "output_type": "display_data",
          "data": {
            "text/plain": [
              "<Figure size 640x480 with 1 Axes>"
            ],
            "image/png": "[encoded data removed]"
          },
          "metadata": {}
        }
      ]
    },
    {
      "cell_type": "markdown",
      "source": [
        "2.\t**Impute** Embarked Using **Mode (Categorical Data)**:"
      ],
      "metadata": {
        "id": "RbTbscPQBEnL"
      }
    },
    {
      "cell_type": "code",
      "source": [
        "df['Embarked'].value_counts().plot(kind='pie', autopct='%1.1f%%', colors=['skyblue', 'lightgreen', 'salmon'])\n",
        "plt.title('Embarked Distribution')\n",
        "plt.show()"
      ],
      "metadata": {
        "colab": {
          "base_uri": "https://localhost:8080/",
          "height": 428
        },
        "id": "jlc4dKurEzeU",
        "outputId": "4057fb89-ede2-4c08-d3dd-dbd0f37dd8ae"
      },
      "execution_count": null,
      "outputs": [
        {
          "output_type": "display_data",
          "data": {
            "text/plain": [
              "<Figure size 640x480 with 1 Axes>"
            ],
            "image/png": "[encoded data removed]"
          },
          "metadata": {}
        }
      ]
    },
    {
      "cell_type": "code",
      "source": [
        "# Impute 'Embarked' using the most frequent value (mode)\n",
        "mode_imputer = SimpleImputer(strategy='most_frequent')\n",
        "df['Embarked'] = mode_imputer.fit_transform(df[['Embarked']]).ravel()"
      ],
      "metadata": {
        "id": "GbHFgvGpBBi3"
      },
      "execution_count": null,
      "outputs": []
    },
    {
      "cell_type": "code",
      "source": [
        "df['Embarked'].value_counts().plot(kind='pie', autopct='%1.1f%%', colors=['skyblue', 'lightgreen', 'salmon'])\n",
        "plt.title('Embarked Distribution')\n",
        "plt.show()"
      ],
      "metadata": {
        "colab": {
          "base_uri": "https://localhost:8080/",
          "height": 428
        },
        "id": "ZrY8ULhDEvQQ",
        "outputId": "bd93264b-f933-47a0-8b34-b74958f418a7"
      },
      "execution_count": null,
      "outputs": [
        {
          "output_type": "display_data",
          "data": {
            "text/plain": [
              "<Figure size 640x480 with 1 Axes>"
            ],
            "image/png": "[encoded data removed]"
          },
          "metadata": {}
        }
      ]
    },
    {
      "cell_type": "markdown",
      "source": [
        "Explanation:\n",
        "\n",
        "*\tfit_transform() outputs a 2D array because it is designed to work with multiple columns.\n",
        "*\t.ravel() or .flatten() converts the 2D array to a 1D array, which can be assigned back to a single column.\n"
      ],
      "metadata": {
        "id": "Ok08QpP-Bavl"
      }
    },
    {
      "cell_type": "markdown",
      "source": [
        "3.\t**Impute** Cabin Using a **Placeholder**:\n",
        "\t*\tSince Cabin has many missing values, we can fill with **\"Unknown\"**."
      ],
      "metadata": {
        "id": "MyhzMy9MBdSW"
      }
    },
    {
      "cell_type": "code",
      "source": [
        "df['Cabin'] = df['Cabin'].fillna('Unknown')"
      ],
      "metadata": {
        "id": "QRR-KD43BJDF"
      },
      "execution_count": null,
      "outputs": []
    },
    {
      "cell_type": "markdown",
      "source": [
        "## Step 4: Verify Imputation"
      ],
      "metadata": {
        "id": "ZCIAfdywBsVG"
      }
    },
    {
      "cell_type": "code",
      "source": [
        "df.isnull().sum()"
      ],
      "metadata": {
        "colab": {
          "base_uri": "https://localhost:8080/",
          "height": 492
        },
        "id": "mpihoLhSBqZQ",
        "outputId": "f51ba5d2-2faa-4a93-ae81-5cc39b50037e"
      },
      "execution_count": null,
      "outputs": [
        {
          "output_type": "execute_result",
          "data": {
            "text/plain": [
              "PassengerId    0\n",
              "Survived       0\n",
              "Pclass         0\n",
              "Name           0\n",
              "Sex            0\n",
              "Age            0\n",
              "SibSp          0\n",
              "Parch          0\n",
              "Ticket         0\n",
              "Fare           0\n",
              "Cabin          0\n",
              "Embarked       0\n",
              "dtype: int64"
            ],
            "text/html": [
              "<div>\n",
              "<style scoped>\n",
              "    .dataframe tbody tr th:only-of-type {\n",
              "        vertical-align: middle;\n",
              "    }\n",
              "\n",
              "    .dataframe tbody tr th {\n",
              "        vertical-align: top;\n",
              "    }\n",
              "\n",
              "    .dataframe thead th {\n",
              "        text-align: right;\n",
              "    }\n",
              "</style>\n",
              "<table border=\"1\" class=\"dataframe\">\n",
              "  <thead>\n",
              "    <tr style=\"text-align: right;\">\n",
              "      <th></th>\n",
              "      <th>0</th>\n",
              "    </tr>\n",
              "  </thead>\n",
              "  <tbody>\n",
              "    <tr>\n",
              "      <th>PassengerId</th>\n",
              "      <td>0</td>\n",
              "    </tr>\n",
              "    <tr>\n",
              "      <th>Survived</th>\n",
              "      <td>0</td>\n",
              "    </tr>\n",
              "    <tr>\n",
              "      <th>Pclass</th>\n",
              "      <td>0</td>\n",
              "    </tr>\n",
              "    <tr>\n",
              "      <th>Name</th>\n",
              "      <td>0</td>\n",
              "    </tr>\n",
              "    <tr>\n",
              "      <th>Sex</th>\n",
              "      <td>0</td>\n",
              "    </tr>\n",
              "    <tr>\n",
              "      <th>Age</th>\n",
              "      <td>0</td>\n",
              "    </tr>\n",
              "    <tr>\n",
              "      <th>SibSp</th>\n",
              "      <td>0</td>\n",
              "    </tr>\n",
              "    <tr>\n",
              "      <th>Parch</th>\n",
              "      <td>0</td>\n",
              "    </tr>\n",
              "    <tr>\n",
              "      <th>Ticket</th>\n",
              "      <td>0</td>\n",
              "    </tr>\n",
              "    <tr>\n",
              "      <th>Fare</th>\n",
              "      <td>0</td>\n",
              "    </tr>\n",
              "    <tr>\n",
              "      <th>Cabin</th>\n",
              "      <td>0</td>\n",
              "    </tr>\n",
              "    <tr>\n",
              "      <th>Embarked</th>\n",
              "      <td>0</td>\n",
              "    </tr>\n",
              "  </tbody>\n",
              "</table>\n",
              "</div><br><label><b>dtype:</b> int64</label>"
            ]
          },
          "metadata": {},
          "execution_count": 91
        }
      ]
    },
    {
      "cell_type": "markdown",
      "source": [
        "All missing values have been successfully imputed."
      ],
      "metadata": {
        "id": "ElQO2TuFBwZi"
      }
    },
    {
      "cell_type": "markdown",
      "source": [
        "# Choosing an Imputation Method"
      ],
      "metadata": {
        "id": "-L8nBMmoBy0u"
      }
    },
    {
      "cell_type": "markdown",
      "source": [
        "Data Type |\tRecommended Method\n",
        "--- | ---\n",
        "Numerical (continuous)\t| Mean, Median, Regression, or KNN\n",
        "Numerical (skewed) |\tMedian\n",
        "Categorical\t| Mode, KNN, or Domain-Specific Value\n",
        "Large Missing Proportion\t| Drop column (if appropriate) or use **“Unknown”**"
      ],
      "metadata": {
        "id": "aRs0AKKnBz5K"
      }
    },
    {
      "cell_type": "markdown",
      "source": [
        "## Limitations of Imputation\n",
        "\n",
        "1.\tIntroduces Bias:\n",
        "  *\tSimple methods like mean imputation may distort statistical properties.\n",
        "2.\tOver-Simplification:\n",
        "  *\tAdvanced relationships between features and the target variable may not be captured.\n",
        "3.\tRisk of Overfitting:\n",
        "  *\tModel-based imputations (e.g., regression, KNN) can overfit the dataset.\n",
        "4.\tNot Suitable for All Missingness Types:\n",
        "  *\tMNAR requires careful handling, often needing external data or assumptions."
      ],
      "metadata": {
        "id": "Jqa90WzdCBCo"
      }
    },
    {
      "cell_type": "markdown",
      "source": [
        "## Conclusion\n",
        "\n",
        "Imputation is an essential tool for handling missing data effectively. Choosing the right method depends on the nature of the data, the amount of missingness, and the problem domain."
      ],
      "metadata": {
        "id": "b3gTshotCHDy"
      }
    },
    {
      "cell_type": "code",
      "source": [],
      "metadata": {
        "id": "DQZRLDvjBuvo"
      },
      "execution_count": null,
      "outputs": []
    }
  ]
}